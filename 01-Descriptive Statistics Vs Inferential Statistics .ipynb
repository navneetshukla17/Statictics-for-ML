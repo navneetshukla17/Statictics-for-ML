{
 "cells": [
  {
   "cell_type": "markdown",
   "id": "5012fa5f",
   "metadata": {},
   "source": [
    "# Statistics:\n",
    "\n",
    "- Statistics is a branch of maths where we collect large amount of data and performe analysis to get some conclusion from the data, basicly to find patterns in data.\n",
    "\n",
    "## There are two major branches in Statistics:\n",
    "1. Descriptive Statistics\n",
    "2. Inferential Statistics\n",
    "\n",
    "## Descriptive Statistics:\n",
    "- Descriptive Statistics also called as `Summary Statistics` is gives basic details about a dataset for example:\n",
    "    Mean, Median, Mod, Variance, Co-Variance, Standard Deviation etc...\n",
    "    \n",
    "## Inferential Statistics:\n",
    "- Inferntial Statistics is a technique to perform analysis on a small chunk of a dataset and try to infer some conclusions, which further applies on the original dataset.\n",
    "\n",
    "- There are 4 major underlying terms in Inferential Statistics\n",
    "    1. Poupulation (μ, M): [data and the study]\n",
    "    2. Sample (x̄, n)  [Small chunk of data from orignal Population] **Sample should be `Random` & `Representative`\n",
    "        (`Representative`: Samples from every sector should get involved)\n",
    "    3. Statistics [mean of collected dataset]\n",
    "    4. Parameter [mean of total population]"
   ]
  }
 ],
 "metadata": {
  "kernelspec": {
   "display_name": "Python 3 (ipykernel)",
   "language": "python",
   "name": "python3"
  },
  "language_info": {
   "codemirror_mode": {
    "name": "ipython",
    "version": 3
   },
   "file_extension": ".py",
   "mimetype": "text/x-python",
   "name": "python",
   "nbconvert_exporter": "python",
   "pygments_lexer": "ipython3",
   "version": "3.12.3"
  }
 },
 "nbformat": 4,
 "nbformat_minor": 5
}
